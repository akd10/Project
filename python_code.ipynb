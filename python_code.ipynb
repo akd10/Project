## this script is for capstone project
import panda as pd
import numpy as np
print("hello capstone project course!")
