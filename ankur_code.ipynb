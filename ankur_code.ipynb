## this adds python script to capstone project
import pandas as pd
import numpy as np
print("hello capstone project course")
